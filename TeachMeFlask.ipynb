{
 "metadata": {
  "name": ""
 },
 "nbformat": 3,
 "nbformat_minor": 0,
 "worksheets": [
  {
   "cells": [
    {
     "cell_type": "markdown",
     "metadata": {},
     "source": [
      "[logo here]\n",
      "Attendees:\n",
      "----------\n",
      "* Rigel Trajano\n",
      "* David Dye\n",
      "* Dan Dye \n",
      " * confirmed on involvement.usf.edu? Yes\n",
      " * MailChimp? Yes\n",
      "* Neal Snow\n",
      " * confirmed on involvement.usf.edu? Yes\n",
      " * MailChimp? Yes\n",
      "* Chong Kim?\n",
      "* John\n",
      "\n",
      "Agenda:\n",
      "-------\n",
      "* WTF is a microframework?\n",
      "* WTF is Flask?\n",
      "* Getting Flask\n",
      "* Hello World! (Static Page)\n",
      "* First routed page\n",
      "* Routed page with query string params\n",
      "* Hello Addition!\n",
      "* Web Service for Kendall-Mann Seasonal Trend Test  \n",
      "* A/B based on IP Address\n",
      "* 5 Tweets from a MongoDB\n",
      "\n",
      "Club Administrivia:\n",
      "-------------------\n",
      "* We need *everyone* (who is a student) to confirm club membership on involvement.usf.edu\n",
      "* Make sure you are on the Distro List bit.ly/PyBulls\n"
     ]
    },
    {
     "cell_type": "markdown",
     "metadata": {},
     "source": [
      "WTF is a microframework?\n",
      "========================\n",
      "A small webserver that is extensible but is missing all the bells and whistles of a full blown web framework. Good for basic and even dynamic webpages but won't run an enterprise-scale website.\n"
     ]
    },
    {
     "cell_type": "markdown",
     "metadata": {},
     "source": [
      "WTF is Flask?\n",
      "=============\n"
     ]
    },
    {
     "cell_type": "code",
     "collapsed": false,
     "input": [
      "A python microframework for building webpages.\n",
      "Similar to Bottle\n",
      "Larger frameworks include Django and Pyramid."
     ],
     "language": "python",
     "metadata": {},
     "outputs": []
    },
    {
     "cell_type": "heading",
     "level": 2,
     "metadata": {},
     "source": [
      "Getting Flask"
     ]
    },
    {
     "cell_type": "code",
     "collapsed": false,
     "input": [
      "Is you are using the Anaconda distribution download here (include hyperlink).\n",
      "Then you"
     ],
     "language": "python",
     "metadata": {},
     "outputs": []
    },
    {
     "cell_type": "heading",
     "level": 1,
     "metadata": {},
     "source": [
      "Static \"Hello World\""
     ]
    },
    {
     "cell_type": "code",
     "collapsed": false,
     "input": [
      "from flask import Flask, request\n",
      "app = Flask(__name__)\n",
      "\n",
      "@app.route(\"/\")\n",
      "def hello():\n",
      "    return \"Hello World!\"\n",
      "\n",
      "# if __name__ == \"__main__\":\n",
      "app.run(port=5001)"
     ],
     "language": "python",
     "metadata": {},
     "outputs": [
      {
       "output_type": "stream",
       "stream": "stderr",
       "text": [
        "127.0.0.1 - - [05/Feb/2014 19:03:53] \"GET / HTTP/1.1\" 200 -\n"
       ]
      },
      {
       "output_type": "stream",
       "stream": "stderr",
       "text": [
        "127.0.0.1 - - [05/Feb/2014 19:03:55] \"GET / HTTP/1.1\" 200 -\n"
       ]
      },
      {
       "output_type": "stream",
       "stream": "stdout",
       "text": [
        "----------------------------------------\n",
        "Exception happened during processing of request from ('127.0.0.1', 52034)\n",
        "----------------------------------------\n"
       ]
      },
      {
       "output_type": "stream",
       "stream": "stderr",
       "text": [
        "Traceback (most recent call last):\n",
        "  File \"C:\\Anaconda\\lib\\SocketServer.py\", line 295, in _handle_request_noblock\n",
        "    self.process_request(request, client_address)\n",
        "  File \"C:\\Anaconda\\lib\\SocketServer.py\", line 321, in process_request\n",
        "    self.finish_request(request, client_address)\n",
        "  File \"C:\\Anaconda\\lib\\SocketServer.py\", line 334, in finish_request\n",
        "    self.RequestHandlerClass(request, client_address, self)\n",
        "  File \"C:\\Anaconda\\lib\\SocketServer.py\", line 649, in __init__\n",
        "    self.handle()\n",
        "  File \"C:\\Anaconda\\lib\\site-packages\\werkzeug\\serving.py\", line 200, in handle\n",
        "    rv = BaseHTTPRequestHandler.handle(self)\n",
        "  File \"C:\\Anaconda\\lib\\BaseHTTPServer.py\", line 340, in handle\n",
        "    self.handle_one_request()\n",
        "  File \"C:\\Anaconda\\lib\\site-packages\\werkzeug\\serving.py\", line 231, in handle_one_request\n",
        "    self.raw_requestline = self.rfile.readline()\n",
        "  File \"C:\\Anaconda\\lib\\socket.py\", line 447, in readline\n",
        "    data = self._sock.recv(self._rbufsize)\n",
        "KeyboardInterrupt\n"
       ]
      },
      {
       "output_type": "stream",
       "stream": "stderr",
       "text": [
        " * Running on http://127.0.0.1:5001/\n"
       ]
      }
     ],
     "prompt_number": 11
    },
    {
     "cell_type": "heading",
     "level": 1,
     "metadata": {},
     "source": [
      "First Routed Page"
     ]
    },
    {
     "cell_type": "code",
     "collapsed": false,
     "input": [
      "from flask import Flask, request\n",
      "app = Flask(__name__)\n",
      "\n",
      "@app.route(\"/*\")\n",
      "def hello():\n",
      "    return \"Hello World!\"\n",
      "\n",
      "@app.route('/user/<username>')\n",
      "def show_user_profile(username):\n",
      "    # show the user profile for that user\n",
      "    return 'User %s' % username\n",
      "\n",
      "@app.route('/post/<int:post_id>')\n",
      "def show_post(post_id):\n",
      "    # show the post with the given id, the id is an integer\n",
      "    return 'Post %d' % post_id\n",
      "# if __name__ == \"__main__\":\n",
      "app.run(port=5001)"
     ],
     "language": "python",
     "metadata": {},
     "outputs": [
      {
       "output_type": "stream",
       "stream": "stderr",
       "text": [
        " * Running on http://127.0.0.1:5001/\n"
       ]
      },
      {
       "output_type": "stream",
       "stream": "stderr",
       "text": [
        "127.0.0.1 - - [05/Feb/2014 19:06:09] \"GET /user/Pybulls HTTP/1.1\" 200 -\n"
       ]
      },
      {
       "output_type": "stream",
       "stream": "stdout",
       "text": [
        "----------------------------------------\n",
        "Exception happened during processing of request from ('127.0.0.1', 52071)\n",
        "----------------------------------------\n"
       ]
      },
      {
       "output_type": "stream",
       "stream": "stderr",
       "text": [
        "Traceback (most recent call last):\n",
        "  File \"C:\\Anaconda\\lib\\SocketServer.py\", line 295, in _handle_request_noblock\n",
        "    self.process_request(request, client_address)\n",
        "  File \"C:\\Anaconda\\lib\\SocketServer.py\", line 321, in process_request\n",
        "    self.finish_request(request, client_address)\n",
        "  File \"C:\\Anaconda\\lib\\SocketServer.py\", line 334, in finish_request\n",
        "    self.RequestHandlerClass(request, client_address, self)\n",
        "  File \"C:\\Anaconda\\lib\\SocketServer.py\", line 649, in __init__\n",
        "    self.handle()\n",
        "  File \"C:\\Anaconda\\lib\\site-packages\\werkzeug\\serving.py\", line 200, in handle\n",
        "    rv = BaseHTTPRequestHandler.handle(self)\n",
        "  File \"C:\\Anaconda\\lib\\BaseHTTPServer.py\", line 340, in handle\n",
        "    self.handle_one_request()\n",
        "  File \"C:\\Anaconda\\lib\\site-packages\\werkzeug\\serving.py\", line 231, in handle_one_request\n",
        "    self.raw_requestline = self.rfile.readline()\n",
        "  File \"C:\\Anaconda\\lib\\socket.py\", line 447, in readline\n",
        "    data = self._sock.recv(self._rbufsize)\n",
        "KeyboardInterrupt\n"
       ]
      }
     ],
     "prompt_number": 12
    },
    {
     "cell_type": "heading",
     "level": 1,
     "metadata": {},
     "source": [
      "Routed page for query string params"
     ]
    },
    {
     "cell_type": "code",
     "collapsed": false,
     "input": [
      "from flask import Flask, request\n",
      "app = Flask(__name__)\n",
      "\n",
      "@app.route(\"/*\")\n",
      "def hello():\n",
      "    return \"Hello World!\"\n",
      "\n",
      "@app.route('/user/username')\n",
      "def show_user_profile():\n",
      "    # show the user profile for that user\n",
      "    user = request.args.get('username')\n",
      "    return 'User %s' % user\n",
      "\n",
      "@app.route('/post/<int:post_id>')\n",
      "def show_post(post_id):\n",
      "    # show the post with the given id, the id is an integer\n",
      "    return 'Post %d' % post_id\n",
      "# if __name__ == \"__main__\":\n",
      "app.run(port=5001)"
     ],
     "language": "python",
     "metadata": {},
     "outputs": [
      {
       "output_type": "stream",
       "stream": "stderr",
       "text": [
        " * Running on http://127.0.0.1:5001/\n"
       ]
      },
      {
       "output_type": "stream",
       "stream": "stderr",
       "text": [
        "127.0.0.1 - - [05/Feb/2014 19:07:01] \"GET /user?Pybulls HTTP/1.1\" 404 -\n"
       ]
      },
      {
       "output_type": "stream",
       "stream": "stderr",
       "text": [
        "127.0.0.1 - - [05/Feb/2014 19:07:12] \"GET /user/username?Pybulls HTTP/1.1\" 200 -\n"
       ]
      }
     ],
     "prompt_number": 13
    },
    {
     "cell_type": "heading",
     "level": 1,
     "metadata": {},
     "source": [
      "Doing addition in Flask"
     ]
    },
    {
     "cell_type": "code",
     "collapsed": false,
     "input": [
      "from flask import Flask, request\n",
      "app = Flask(__name__)\n",
      "\n",
      "\n",
      "@app.route('/math/sum')\n",
      "def show_sum():\n",
      "    # show the user profile for that user\n",
      "    vals = request.args.get('vals')\n",
      "    vals = [int(z) for z in vals.split(',')]\n",
      "    return 'Sum is %s' % sum(vals)\n",
      "\n",
      "app.run(port=5001)"
     ],
     "language": "python",
     "metadata": {},
     "outputs": [
      {
       "output_type": "stream",
       "stream": "stderr",
       "text": [
        " * Running on http://127.0.0.1:5001/\n"
       ]
      },
      {
       "output_type": "stream",
       "stream": "stderr",
       "text": [
        "127.0.0.1 - - [05/Feb/2014 19:17:17] \"GET /math/sum?vals=1,2,3 HTTP/1.1\" 200 -\n"
       ]
      }
     ],
     "prompt_number": 2
    },
    {
     "cell_type": "heading",
     "level": 1,
     "metadata": {},
     "source": [
      "Differentiate based on Web browser"
     ]
    },
    {
     "cell_type": "code",
     "collapsed": false,
     "input": [
      "from flask import Flask, request\n",
      "app = Flask(__name__)\n",
      "\n",
      "\n",
      "@app.route('/')\n",
      "def show_spoof():\n",
      "    # show the user profile for that user\n",
      "    vals = request.headers['User-Agent']\n",
      "#     vals = vals.split('/')\n",
      "    return 'Hello %s' % vals\n",
      "\n",
      "app.run(port=5001)"
     ],
     "language": "python",
     "metadata": {},
     "outputs": [
      {
       "output_type": "stream",
       "stream": "stderr",
       "text": [
        " * Running on http://127.0.0.1:5001/\n"
       ]
      },
      {
       "output_type": "stream",
       "stream": "stderr",
       "text": [
        "127.0.0.1 - - [05/Feb/2014 19:37:50] \"GET / HTTP/1.1\" 200 -\n"
       ]
      }
     ],
     "prompt_number": "*"
    }
   ],
   "metadata": {}
  }
 ]
}