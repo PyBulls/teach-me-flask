{
 "metadata": {
  "name": ""
 },
 "nbformat": 3,
 "nbformat_minor": 0,
 "worksheets": [
  {
   "cells": [
    {
     "cell_type": "markdown",
     "metadata": {},
     "source": [
      "[logo here]\n",
      "Attendees:\n",
      "----------\n",
      "* Rigel Trajano\n",
      "* David Dye\n",
      "* Dan Dye \n",
      " * confirmed on involvement.usf.edu? Yes\n",
      " * MailChimp? Yes\n",
      "* Neal Snow\n",
      " * confirmed on involvement.usf.edu? Yes\n",
      " * MailChimp? Yes\n",
      "* Chong Kim?\n",
      "* John\n",
      "\n",
      "Attendees (Part 2):\n",
      "----------\n",
      "* Rigel Trajano\n",
      "* Dan Dye \n",
      "* Neal Snow\n",
      "* Quinn\n",
      "\n",
      "Agenda:\n",
      "-------\n",
      "* WTF is a microframework?\n",
      "* WTF is Flask?\n",
      "* Getting Flask\n",
      "* Hello World! (Static Page)\n",
      "* First routed page\n",
      "* Routed page with query string params\n",
      "* Hello Addition!\n",
      "* Web Service for Kendall-Mann Seasonal Trend Test  \n",
      "* A/B based on IP Address\n",
      "* 5 Tweets from a MongoDB\n",
      "\n",
      "Club Administrivia:\n",
      "-------------------\n",
      "* We need *everyone* (who is a student) to confirm club membership on involvement.usf.edu\n",
      "* Make sure you are on the Distro List bit.ly/PyBulls\n"
     ]
    },
    {
     "cell_type": "markdown",
     "metadata": {},
     "source": [
      "WTF is a microframework?\n",
      "========================\n",
      "A small webserver that is extensible but is missing all the bells and whistles of a full blown web framework. Good for basic and even dynamic webpages but won't run an enterprise-scale website.\n"
     ]
    },
    {
     "cell_type": "markdown",
     "metadata": {},
     "source": [
      "WTF is Flask?\n",
      "=============\n"
     ]
    },
    {
     "cell_type": "code",
     "collapsed": false,
     "input": [
      "A python microframework for building webpages.\n",
      "Similar to Bottle\n",
      "Larger frameworks include Django and Pyramid."
     ],
     "language": "python",
     "metadata": {},
     "outputs": []
    },
    {
     "cell_type": "heading",
     "level": 2,
     "metadata": {},
     "source": [
      "Getting Flask"
     ]
    },
    {
     "cell_type": "code",
     "collapsed": false,
     "input": [
      "Is you are using the Anaconda distribution download here (include hyperlink).\n",
      "Then you"
     ],
     "language": "python",
     "metadata": {},
     "outputs": []
    },
    {
     "cell_type": "heading",
     "level": 1,
     "metadata": {},
     "source": [
      "Static \"Hello World\""
     ]
    },
    {
     "cell_type": "code",
     "collapsed": false,
     "input": [
      "from flask import Flask, request\n",
      "app = Flask(__name__)\n",
      "\n",
      "@app.route(\"/\")\n",
      "def hello():\n",
      "    return \"Hello World!\"\n",
      "\n",
      "# if __name__ == \"__main__\":\n",
      "app.run(port=5001)"
     ],
     "language": "python",
     "metadata": {},
     "outputs": [
      {
       "output_type": "stream",
       "stream": "stderr",
       "text": [
        "127.0.0.1 - - [05/Feb/2014 19:03:53] \"GET / HTTP/1.1\" 200 -\n"
       ]
      },
      {
       "output_type": "stream",
       "stream": "stderr",
       "text": [
        "127.0.0.1 - - [05/Feb/2014 19:03:55] \"GET / HTTP/1.1\" 200 -\n"
       ]
      },
      {
       "output_type": "stream",
       "stream": "stdout",
       "text": [
        "----------------------------------------\n",
        "Exception happened during processing of request from ('127.0.0.1', 52034)\n",
        "----------------------------------------\n"
       ]
      },
      {
       "output_type": "stream",
       "stream": "stderr",
       "text": [
        "Traceback (most recent call last):\n",
        "  File \"C:\\Anaconda\\lib\\SocketServer.py\", line 295, in _handle_request_noblock\n",
        "    self.process_request(request, client_address)\n",
        "  File \"C:\\Anaconda\\lib\\SocketServer.py\", line 321, in process_request\n",
        "    self.finish_request(request, client_address)\n",
        "  File \"C:\\Anaconda\\lib\\SocketServer.py\", line 334, in finish_request\n",
        "    self.RequestHandlerClass(request, client_address, self)\n",
        "  File \"C:\\Anaconda\\lib\\SocketServer.py\", line 649, in __init__\n",
        "    self.handle()\n",
        "  File \"C:\\Anaconda\\lib\\site-packages\\werkzeug\\serving.py\", line 200, in handle\n",
        "    rv = BaseHTTPRequestHandler.handle(self)\n",
        "  File \"C:\\Anaconda\\lib\\BaseHTTPServer.py\", line 340, in handle\n",
        "    self.handle_one_request()\n",
        "  File \"C:\\Anaconda\\lib\\site-packages\\werkzeug\\serving.py\", line 231, in handle_one_request\n",
        "    self.raw_requestline = self.rfile.readline()\n",
        "  File \"C:\\Anaconda\\lib\\socket.py\", line 447, in readline\n",
        "    data = self._sock.recv(self._rbufsize)\n",
        "KeyboardInterrupt\n"
       ]
      },
      {
       "output_type": "stream",
       "stream": "stderr",
       "text": [
        " * Running on http://127.0.0.1:5001/\n"
       ]
      }
     ],
     "prompt_number": 11
    },
    {
     "cell_type": "heading",
     "level": 1,
     "metadata": {},
     "source": [
      "First Routed Page"
     ]
    },
    {
     "cell_type": "code",
     "collapsed": false,
     "input": [
      "from flask import Flask, request\n",
      "app = Flask(__name__)\n",
      "\n",
      "@app.route(\"/*\")\n",
      "def hello():\n",
      "    return \"Hello World!\"\n",
      "\n",
      "@app.route('/user/<username>')\n",
      "def show_user_profile(username):\n",
      "    # show the user profile for that user\n",
      "    return 'User %s' % username\n",
      "\n",
      "@app.route('/post/<int:post_id>')\n",
      "def show_post(post_id):\n",
      "    # show the post with the given id, the id is an integer\n",
      "    return 'Post %d' % post_id\n",
      "# if __name__ == \"__main__\":\n",
      "app.run(port=5001)"
     ],
     "language": "python",
     "metadata": {},
     "outputs": [
      {
       "output_type": "stream",
       "stream": "stderr",
       "text": [
        " * Running on http://127.0.0.1:5001/\n"
       ]
      },
      {
       "output_type": "stream",
       "stream": "stderr",
       "text": [
        "127.0.0.1 - - [05/Feb/2014 19:06:09] \"GET /user/Pybulls HTTP/1.1\" 200 -\n"
       ]
      },
      {
       "output_type": "stream",
       "stream": "stdout",
       "text": [
        "----------------------------------------\n",
        "Exception happened during processing of request from ('127.0.0.1', 52071)\n",
        "----------------------------------------\n"
       ]
      },
      {
       "output_type": "stream",
       "stream": "stderr",
       "text": [
        "Traceback (most recent call last):\n",
        "  File \"C:\\Anaconda\\lib\\SocketServer.py\", line 295, in _handle_request_noblock\n",
        "    self.process_request(request, client_address)\n",
        "  File \"C:\\Anaconda\\lib\\SocketServer.py\", line 321, in process_request\n",
        "    self.finish_request(request, client_address)\n",
        "  File \"C:\\Anaconda\\lib\\SocketServer.py\", line 334, in finish_request\n",
        "    self.RequestHandlerClass(request, client_address, self)\n",
        "  File \"C:\\Anaconda\\lib\\SocketServer.py\", line 649, in __init__\n",
        "    self.handle()\n",
        "  File \"C:\\Anaconda\\lib\\site-packages\\werkzeug\\serving.py\", line 200, in handle\n",
        "    rv = BaseHTTPRequestHandler.handle(self)\n",
        "  File \"C:\\Anaconda\\lib\\BaseHTTPServer.py\", line 340, in handle\n",
        "    self.handle_one_request()\n",
        "  File \"C:\\Anaconda\\lib\\site-packages\\werkzeug\\serving.py\", line 231, in handle_one_request\n",
        "    self.raw_requestline = self.rfile.readline()\n",
        "  File \"C:\\Anaconda\\lib\\socket.py\", line 447, in readline\n",
        "    data = self._sock.recv(self._rbufsize)\n",
        "KeyboardInterrupt\n"
       ]
      }
     ],
     "prompt_number": 12
    },
    {
     "cell_type": "heading",
     "level": 1,
     "metadata": {},
     "source": [
      "Routed page for query string params"
     ]
    },
    {
     "cell_type": "code",
     "collapsed": false,
     "input": [
      "from flask import Flask, request\n",
      "app = Flask(__name__)\n",
      "\n",
      "@app.route(\"/*\")\n",
      "def hello():\n",
      "    return \"Hello World!\"\n",
      "\n",
      "@app.route('/user/username')\n",
      "def show_user_profile():\n",
      "    # show the user profile for that user\n",
      "    user = request.args.get('username')\n",
      "    return 'User %s' % user\n",
      "\n",
      "@app.route('/post/<int:post_id>')\n",
      "def show_post(post_id):\n",
      "    # show the post with the given id, the id is an integer\n",
      "    return 'Post %d' % post_id\n",
      "# if __name__ == \"__main__\":\n",
      "app.run(port=5001)"
     ],
     "language": "python",
     "metadata": {},
     "outputs": [
      {
       "output_type": "stream",
       "stream": "stderr",
       "text": [
        " * Running on http://127.0.0.1:5001/\n"
       ]
      },
      {
       "output_type": "stream",
       "stream": "stderr",
       "text": [
        "127.0.0.1 - - [05/Feb/2014 19:07:01] \"GET /user?Pybulls HTTP/1.1\" 404 -\n"
       ]
      },
      {
       "output_type": "stream",
       "stream": "stderr",
       "text": [
        "127.0.0.1 - - [05/Feb/2014 19:07:12] \"GET /user/username?Pybulls HTTP/1.1\" 200 -\n"
       ]
      }
     ],
     "prompt_number": 13
    },
    {
     "cell_type": "heading",
     "level": 1,
     "metadata": {},
     "source": [
      "Doing addition in Flask"
     ]
    },
    {
     "cell_type": "code",
     "collapsed": false,
     "input": [
      "from flask import Flask, request\n",
      "app = Flask(__name__)\n",
      "\n",
      "\n",
      "@app.route('/math/sum')\n",
      "def show_sum():\n",
      "    # show the user profile for that user\n",
      "    vals = request.args.get('vals')\n",
      "    vals = [int(z) for z in vals.split(',')]\n",
      "    return 'Sum is %s' % sum(vals)\n",
      "\n",
      "app.run(port=5001)"
     ],
     "language": "python",
     "metadata": {},
     "outputs": [
      {
       "output_type": "stream",
       "stream": "stderr",
       "text": [
        " * Running on http://127.0.0.1:5001/\n"
       ]
      },
      {
       "output_type": "stream",
       "stream": "stderr",
       "text": [
        "127.0.0.1 - - [05/Feb/2014 19:17:17] \"GET /math/sum?vals=1,2,3 HTTP/1.1\" 200 -\n"
       ]
      }
     ],
     "prompt_number": 2
    },
    {
     "cell_type": "heading",
     "level": 1,
     "metadata": {},
     "source": [
      "Differentiate based on Web browser"
     ]
    },
    {
     "cell_type": "markdown",
     "metadata": {},
     "source": [
      "from flask import Flask, request\n",
      "app = Flask(__name__)\n",
      "\n",
      "\n",
      "@app.route('/')\n",
      "def show_spoof():\n",
      "    # show the user profile for that user\n",
      "    vals = request.headers['User-Agent']\n",
      "#     vals = vals.split('/')\n",
      "    return 'Hello %s' % vals\n",
      "\n",
      "app.run(port=5001)"
     ]
    },
    {
     "cell_type": "markdown",
     "metadata": {},
     "source": [
      "Part 2 we will cover:\n",
      "\n",
      "\u2022 Connecting to a DB\n",
      "\n",
      "\u2022 Showing info from DB on webpage using Flask\n",
      "\n",
      "\u2022 Templates\n",
      "\n",
      "\u2022 Forms\n",
      "\n",
      "\u2022 Sending data to DB\n",
      "\n",
      "\u2022 Move webpage from localhost to remote server"
     ]
    },
    {
     "cell_type": "markdown",
     "metadata": {},
     "source": [
      " ## Install Mongo\n",
      " 1. Get Mongo:\n",
      " http://www.mongodb.org/dr/fastdl.mongodb.org/win32/mongodb-win32-x86_64-2008plus-2.4.9.zip/download\n",
      " 2. Unpack the zip whereever you'd like your Binaries (*.exe files) to live\n",
      " (on our demo machine we put them in C:\\Temp\\mongodb-win32-x86_64-2008plus-2.4.9\\bin\\\n",
      " 3. before you run mongo, you need to set up a DB location\n",
      " the default is /data/db, so on windows you can create c:\\data\\db\\\n",
      " (or you can supply the flag --dbpath)\n",
      " 4. Run mongod.exe\n"
     ]
    },
    {
     "cell_type": "code",
     "collapsed": false,
     "input": [
      "!pip install pymongo"
     ],
     "language": "python",
     "metadata": {},
     "outputs": [
      {
       "output_type": "stream",
       "stream": "stdout",
       "text": [
        "Downloading/unpacking pymongo\n",
        "  Running setup.py egg_info for package pymongo\n",
        "    \n",
        "Installing collected packages: pymongo\n",
        "  Running setup.py install for pymongo\n",
        "    building 'bson._cbson' extension\n",
        "    C:\\Anaconda\\Scripts\\gcc.bat -DMS_WIN64 -mdll -O -Wall -Ibson -IC:\\Anaconda\\include -IC:\\Anaconda\\PC -c bson/_cbsonmodule.c -o build\\temp.win-amd64-2.7\\Release\\bson\\_cbsonmodule.o\n",
        "    C:\\Anaconda\\Scripts\\gcc.bat -DMS_WIN64 -mdll -O -Wall -Ibson -IC:\\Anaconda\\include -IC:\\Anaconda\\PC -c bson/time64.c -o build\\temp.win-amd64-2.7\\Release\\bson\\time64.o\n",
        "    C:\\Anaconda\\Scripts\\gcc.bat -DMS_WIN64 -mdll -O -Wall -Ibson -IC:\\Anaconda\\include -IC:\\Anaconda\\PC -c bson/buffer.c -o build\\temp.win-amd64-2.7\\Release\\bson\\buffer.o\n",
        "    C:\\Anaconda\\Scripts\\gcc.bat -DMS_WIN64 -mdll -O -Wall -Ibson -IC:\\Anaconda\\include -IC:\\Anaconda\\PC -c bson/encoding_helpers.c -o build\\temp.win-amd64-2.7\\Release\\bson\\encoding_helpers.o\n",
        "    C:\\Anaconda\\Scripts\\gcc.bat -DMS_WIN64 -shared -s build\\temp.win-amd64-2.7\\Release\\bson\\_cbsonmodule.o build\\temp.win-amd64-2.7\\Release\\bson\\time64.o build\\temp.win-amd64-2.7\\Release\\bson\\buffer.o build\\temp.win-amd64-2.7\\Release\\bson\\encoding_helpers.o build\\temp.win-amd64-2.7\\Release\\bson\\_cbson.def -LC:\\Anaconda\\libs -LC:\\Anaconda\\PCbuild\\amd64 -lpython27 -lmsvcr90 -o build\\lib.win-amd64-2.7\\bson\\_cbson.pyd\n",
        "    building 'pymongo._cmessage' extension\n",
        "    C:\\Anaconda\\Scripts\\gcc.bat -DMS_WIN64 -mdll -O -Wall -Ibson -IC:\\Anaconda\\include -IC:\\Anaconda\\PC -c pymongo/_cmessagemodule.c -o build\\temp.win-amd64-2.7\\Release\\pymongo\\_cmessagemodule.o\n",
        "    C:\\Anaconda\\Scripts\\gcc.bat -DMS_WIN64 -mdll -O -Wall -Ibson -IC:\\Anaconda\\include -IC:\\Anaconda\\PC -c bson/buffer.c -o build\\temp.win-amd64-2.7\\Release\\bson\\buffer.o\n",
        "    C:\\Anaconda\\Scripts\\gcc.bat -DMS_WIN64 -shared -s build\\temp.win-amd64-2.7\\Release\\pymongo\\_cmessagemodule.o build\\temp.win-amd64-2.7\\Release\\bson\\buffer.o build\\temp.win-amd64-2.7\\Release\\pymongo\\_cmessage.def -LC:\\Anaconda\\libs -LC:\\Anaconda\\PCbuild\\amd64 -lpython27 -lmsvcr90 -o build\\lib.win-amd64-2.7\\pymongo\\_cmessage.pyd\n",
        "    \n",
        "Successfully installed pymongo\n",
        "Cleaning up...\n"
       ]
      }
     ],
     "prompt_number": 4
    },
    {
     "cell_type": "code",
     "collapsed": false,
     "input": [
      "from pymongo import MongoClient\n",
      "import json\n",
      "client = MongoClient()\n",
      "db = client.meeting_announcements\n",
      "\n",
      "meeting_str = '''{\\n    \\\"Date\\\": \\\"Wednesday 05. February 2014 05PM - 7pm\\\",\\n    \\\"Location\\\": \\\"TBD\\\",\\n    \\\"Topic\\\": \\\"Teach me Flask (lightweight Python web framework)\\\"\\n}'''\n",
      "\n",
      "meeting_str_clean = meeting_str.replace(\"\\\\\",\"\").replace(\"\\n\",\"\")\n",
      "\n",
      "meeting = json.loads(meeting_str_clean)\n",
      "\n",
      "meetings_collection = db.meetings\n",
      "meetings_collection.insert(meeting)\n",
      "meeting\n",
      "# ToDo: De-Dupe the meetings_collection"
     ],
     "language": "python",
     "metadata": {},
     "outputs": [
      {
       "metadata": {},
       "output_type": "pyout",
       "prompt_number": 40,
       "text": [
        "{u'Date': u'Wednesday 05. February 2014 05PM - 7pm',\n",
        " u'Location': u'TBD',\n",
        " u'Topic': u'Teach me Flask (lightweight Python web framework)',\n",
        " '_id': ObjectId('52fc053caac8fd0bf8c4fc57')}"
       ]
      }
     ],
     "prompt_number": 40
    },
    {
     "cell_type": "code",
     "collapsed": false,
     "input": [
      "for c in meetings_collection.find():\n",
      "    print c\n",
      "# Lots of duplicates because we ran the insert multiple times\n",
      "# How can we de-duplicate?"
     ],
     "language": "python",
     "metadata": {},
     "outputs": [
      {
       "output_type": "stream",
       "stream": "stdout",
       "text": [
        "{u'Date': u'Wednesday 05. February 2014 05PM - 7pm', u'Topic': u'Teach me Flask (lightweight Python web framework)', u'_id': ObjectId('52fc041daac8fd0bf8c4fc49'), u'Location': u'TBD'}\n",
        "{u'Date': u'Wednesday 05. February 2014 05PM - 7pm', u'Topic': u'Teach me Flask (lightweight Python web framework)', u'_id': ObjectId('52fc0471aac8fd0bf8c4fc4a'), u'Location': u'TBD'}\n",
        "{u'Date': u'Wednesday 05. February 2014 05PM - 7pm', u'Topic': u'Teach me Flask (lightweight Python web framework)', u'_id': ObjectId('52fc047caac8fd0bf8c4fc4b'), u'Location': u'TBD'}\n",
        "{u'Date': u'Wednesday 05. February 2014 05PM - 7pm', u'Topic': u'Teach me Flask (lightweight Python web framework)', u'_id': ObjectId('52fc0493aac8fd0bf8c4fc4c'), u'Location': u'TBD'}\n",
        "{u'Date': u'Wednesday 05. February 2014 05PM - 7pm', u'Topic': u'Teach me Flask (lightweight Python web framework)', u'_id': ObjectId('52fc0493aac8fd0bf8c4fc4d'), u'Location': u'TBD'}\n",
        "{u'Date': u'Wednesday 05. February 2014 05PM - 7pm', u'Topic': u'Teach me Flask (lightweight Python web framework)', u'_id': ObjectId('52fc0493aac8fd0bf8c4fc4e'), u'Location': u'TBD'}\n",
        "{u'Date': u'Wednesday 05. February 2014 05PM - 7pm', u'Topic': u'Teach me Flask (lightweight Python web framework)', u'_id': ObjectId('52fc0494aac8fd0bf8c4fc4f'), u'Location': u'TBD'}\n",
        "{u'Date': u'Wednesday 05. February 2014 05PM - 7pm', u'Topic': u'Teach me Flask (lightweight Python web framework)', u'_id': ObjectId('52fc0494aac8fd0bf8c4fc50'), u'Location': u'TBD'}\n",
        "{u'Date': u'Wednesday 05. February 2014 05PM - 7pm', u'Topic': u'Teach me Flask (lightweight Python web framework)', u'_id': ObjectId('52fc0494aac8fd0bf8c4fc51'), u'Location': u'TBD'}\n",
        "{u'Date': u'Wednesday 05. February 2014 05PM - 7pm', u'Topic': u'Teach me Flask (lightweight Python web framework)', u'_id': ObjectId('52fc0495aac8fd0bf8c4fc52'), u'Location': u'TBD'}\n",
        "{u'Date': u'Wednesday 05. February 2014 05PM - 7pm', u'Topic': u'Teach me Flask (lightweight Python web framework)', u'_id': ObjectId('52fc0495aac8fd0bf8c4fc53'), u'Location': u'TBD'}\n",
        "{u'Date': u'Wednesday 05. February 2014 05PM - 7pm', u'Topic': u'Teach me Flask (lightweight Python web framework)', u'_id': ObjectId('52fc0495aac8fd0bf8c4fc54'), u'Location': u'TBD'}\n",
        "{u'Date': u'Wednesday 05. February 2014 05PM - 7pm', u'Topic': u'Teach me Flask (lightweight Python web framework)', u'_id': ObjectId('52fc0495aac8fd0bf8c4fc55'), u'Location': u'TBD'}\n",
        "{u'Date': u'Wednesday 05. February 2014 05PM - 7pm', u'Topic': u'Teach me Flask (lightweight Python web framework)', u'_id': ObjectId('52fc0495aac8fd0bf8c4fc56'), u'Location': u'TBD'}\n",
        "{u'Date': u'Wednesday 05. February 2014 05PM - 7pm', u'Topic': u'Teach me Flask (lightweight Python web framework)', u'_id': ObjectId('52fc053caac8fd0bf8c4fc57'), u'Location': u'TBD'}\n"
       ]
      }
     ],
     "prompt_number": 58
    },
    {
     "cell_type": "code",
     "collapsed": false,
     "input": [
      "#meetings_collection.distinct??\n",
      "meetings_collection.distinct('Date')#[0]._id\n"
     ],
     "language": "python",
     "metadata": {},
     "outputs": [
      {
       "metadata": {},
       "output_type": "pyout",
       "prompt_number": 64,
       "text": [
        "[u'Wednesday 05. February 2014 05PM - 7pm']"
       ]
      }
     ],
     "prompt_number": 64
    },
    {
     "cell_type": "markdown",
     "metadata": {},
     "source": [
      "## WTF Forms"
     ]
    },
    {
     "cell_type": "code",
     "collapsed": false,
     "input": [
      "# Install \n",
      "!pip install flask_wtf flask-pymongo"
     ],
     "language": "python",
     "metadata": {},
     "outputs": [
      {
       "output_type": "stream",
       "stream": "stdout",
       "text": [
        "Requirement already satisfied (use --upgrade to upgrade): flask-wtf in c:\\anaconda\\lib\\site-packages\n",
        "Requirement already satisfied (use --upgrade to upgrade): flask-pymongo in c:\\anaconda\\lib\\site-packages\n",
        "Requirement already satisfied (use --upgrade to upgrade): Flask in c:\\anaconda\\lib\\site-packages (from flask-wtf)\n",
        "Requirement already satisfied (use --upgrade to upgrade): WTForms>=1.0.5,<2.0 in c:\\anaconda\\lib\\site-packages (from flask-wtf)\n",
        "Requirement already satisfied (use --upgrade to upgrade): pymongo>=2.4 in c:\\anaconda\\lib\\site-packages (from flask-pymongo)\n",
        "Cleaning up...\n"
       ]
      }
     ],
     "prompt_number": 70
    },
    {
     "cell_type": "code",
     "collapsed": false,
     "input": [
      "from flask_wtf import Form\n",
      "from wtforms import TextField\n",
      "from wtforms.validators import DataRequired\n",
      "from flask import Flask, request\n",
      "from flask import render_template\n",
      "app = Flask(__name__)\n",
      "\n",
      "class MyForm(Form):\n",
      "    name = TextField('name', validators=[DataRequired()])\n",
      "\n",
      "\n",
      "@app.route('/user/username')\n",
      "def show_user_profile():\n",
      "    # show the user profile for that user\n",
      "    user = request.args.get('username')\n",
      "    return 'User %s' % user\n",
      "\n",
      "    \n",
      "@app.route('/submit', methods=('GET', 'POST'))\n",
      "def submit():\n",
      "    #form = MyForm()\n",
      "    #if form.validate_on_submit():\n",
      "    #    return redirect('/success')\n",
      "    #return render_template(r'C:\\Users\\ddye\\Documents\\PyBulls\\teach-me-flask\\templates\\submit.html', form=form)\n",
      "    #return render_template(r'C:\\Users\\ddye\\Documents\\PyBulls\\teach-me-flask\\templates\\submit.html')\n",
      "    #return render_template('submit.html')\n",
      "    return \"Hello!\"\n",
      "    #return render_template(r'submit.html')\n",
      "    \n",
      "    \n",
      "#app.run(port=5001, debug=True)\n",
      "app.run(port=5001)"
     ],
     "language": "python",
     "metadata": {},
     "outputs": [
      {
       "output_type": "stream",
       "stream": "stderr",
       "text": [
        " * Running on http://127.0.0.1:5001/\n"
       ]
      },
      {
       "output_type": "stream",
       "stream": "stderr",
       "text": [
        "127.0.0.1 - - [12/Feb/2014 19:17:41] \"GET /user/username?username=PyBulls HTTP/1.1\" 200 -\n"
       ]
      },
      {
       "output_type": "stream",
       "stream": "stderr",
       "text": [
        "127.0.0.1 - - [12/Feb/2014 19:17:45] \"GET /submit HTTP/1.1\" 500 -\n"
       ]
      }
     ],
     "prompt_number": "*"
    },
    {
     "cell_type": "code",
     "collapsed": false,
     "input": [
      "#%tb\n",
      "!dir"
     ],
     "language": "python",
     "metadata": {},
     "outputs": [
      {
       "output_type": "stream",
       "stream": "stdout",
       "text": [
        " Volume in drive C has no label.\n",
        " Volume Serial Number is BA34-9C1D\n",
        "\n",
        " Directory of C:\\Users\\ddye\\Documents\\PyBulls\\teach-me-flask\n",
        "\n",
        "02/12/2014  07:01 PM    <DIR>          .\n",
        "02/12/2014  07:01 PM    <DIR>          ..\n",
        "02/05/2014  06:27 PM    <DIR>          .ipynb_checkpoints\n",
        "02/05/2014  05:07 PM                59 README.md\n",
        "02/12/2014  07:14 PM            24,231 TeachMeFlask.ipynb\n",
        "02/12/2014  07:03 PM    <DIR>          templates\n",
        "               2 File(s)         24,290 bytes\n",
        "               4 Dir(s)  155,612,254,208 bytes free\n"
       ]
      }
     ],
     "prompt_number": 84
    }
   ],
   "metadata": {}
  }
 ]
}